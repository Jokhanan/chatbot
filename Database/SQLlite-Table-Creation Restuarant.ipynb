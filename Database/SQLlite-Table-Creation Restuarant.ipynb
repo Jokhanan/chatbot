{
 "cells": [
  {
   "cell_type": "code",
   "execution_count": 25,
   "metadata": {},
   "outputs": [
    {
     "name": "stdout",
     "output_type": "stream",
     "text": [
      "Opened database successfully\n"
     ]
    }
   ],
   "source": [
    "import sqlite3\n",
    "\n",
    "conn = sqlite3.connect('restuarant.db')\n",
    "print(\"Opened database successfully\");"
   ]
  },
  {
   "cell_type": "code",
   "execution_count": 26,
   "metadata": {},
   "outputs": [
    {
     "name": "stdout",
     "output_type": "stream",
     "text": [
      "Restaurant Table created successfully\n"
     ]
    }
   ],
   "source": [
    "'''Create the table'''\n",
    "conn.execute('''CREATE TABLE RESTAURANTMASTER\n",
    "         (ID               INT     NOT NULL,\n",
    "         RESERVEDONTHENAME TEXT    NOT NULL,\n",
    "         RESTUARANTNAME    TEXT    NOT NULL,\n",
    "         CUISINETYPE       TEXT    NOT NULL,\n",
    "         COSTTYPE          TEXT    NOT NULL,\n",
    "         LOCATION          TEXT    NOT NULL,\n",
    "         NOOFPEOPLE        TEXT    NOT NULL);''')\n",
    "print(\"Restaurant Table created successfully\");\n",
    "conn.close()"
   ]
  },
  {
   "cell_type": "code",
   "execution_count": 27,
   "metadata": {},
   "outputs": [
    {
     "name": "stdout",
     "output_type": "stream",
     "text": [
      "Restaurant Records inserted successfully\n"
     ]
    }
   ],
   "source": [
    "conn = sqlite3.connect('restuarant.db')\n",
    "\n",
    "conn.execute(\"INSERT INTO RESTAURANTMASTER (ID,RESERVEDONTHENAME,RESTUARANTNAME,CUISINETYPE,COSTTYPE,LOCATION,NOOFPEOPLE) \\\n",
    "      VALUES  (1, 'JP','PARADISE','CHINESE','CHEAP','EAST', '5')\");\n",
    "conn.execute(\"INSERT INTO RESTAURANTMASTER (ID,RESERVEDONTHENAME,RESTUARANTNAME,CUISINETYPE,COSTTYPE,LOCATION,NOOFPEOPLE) \\\n",
    "      VALUES  (1, 'JP','PARADISE','CHINESE','medium','EAST', '5')\");\n",
    "conn.execute(\"INSERT INTO RESTAURANTMASTER (ID,RESERVEDONTHENAME,RESTUARANTNAME,CUISINETYPE,COSTTYPE,LOCATION,NOOFPEOPLE) \\\n",
    "      VALUES  (1, 'JP','PARADISE','CHINESE','excuisite','EAST', '5')\");\n",
    "\n",
    "conn.execute(\"INSERT INTO RESTAURANTMASTER (ID,RESERVEDONTHENAME,RESTUARANTNAME,CUISINETYPE,COSTTYPE,LOCATION,NOOFPEOPLE) \\\n",
    "      VALUES  (1, 'JP','PARADISE','north-indian','CHEAP','EAST', '5')\");\n",
    "conn.execute(\"INSERT INTO RESTAURANTMASTER (ID,RESERVEDONTHENAME,RESTUARANTNAME,CUISINETYPE,COSTTYPE,LOCATION,NOOFPEOPLE) \\\n",
    "      VALUES  (1, 'JP','PARADISE','north-indian','medium','EAST', '5')\");\n",
    "conn.execute(\"INSERT INTO RESTAURANTMASTER (ID,RESERVEDONTHENAME,RESTUARANTNAME,CUISINETYPE,COSTTYPE,LOCATION,NOOFPEOPLE) \\\n",
    "      VALUES  (1, 'JP','PARADISE','north-indian','excuisite','EAST', '5')\");\n",
    "\n",
    "conn.execute(\"INSERT INTO RESTAURANTMASTER (ID,RESERVEDONTHENAME,RESTUARANTNAME,CUISINETYPE,COSTTYPE,LOCATION,NOOFPEOPLE) \\\n",
    "      VALUES  (1, 'JP','PARADISE','south indian','CHEAP','EAST', '5')\");\n",
    "conn.execute(\"INSERT INTO RESTAURANTMASTER (ID,RESERVEDONTHENAME,RESTUARANTNAME,CUISINETYPE,COSTTYPE,LOCATION,NOOFPEOPLE) \\\n",
    "      VALUES  (1, 'JP','PARADISE','south indian','medium','EAST', '5')\");\n",
    "conn.execute(\"INSERT INTO RESTAURANTMASTER (ID,RESERVEDONTHENAME,RESTUARANTNAME,CUISINETYPE,COSTTYPE,LOCATION,NOOFPEOPLE) \\\n",
    "      VALUES  (1, 'JP','PARADISE','south indian','excuisite','EAST', '5')\");\n",
    "\n",
    "conn.execute(\"INSERT INTO RESTAURANTMASTER (ID,RESERVEDONTHENAME,RESTUARANTNAME,CUISINETYPE,COSTTYPE,LOCATION,NOOFPEOPLE) \\\n",
    "      VALUES  (1, 'JP','PARADISE','italian','CHEAP','EAST', '5')\");\n",
    "conn.execute(\"INSERT INTO RESTAURANTMASTER (ID,RESERVEDONTHENAME,RESTUARANTNAME,CUISINETYPE,COSTTYPE,LOCATION,NOOFPEOPLE) \\\n",
    "      VALUES  (1, 'JP','PARADISE','italian','medium','EAST', '5')\");\n",
    "conn.execute(\"INSERT INTO RESTAURANTMASTER (ID,RESERVEDONTHENAME,RESTUARANTNAME,CUISINETYPE,COSTTYPE,LOCATION,NOOFPEOPLE) \\\n",
    "      VALUES  (1, 'JP','PARADISE','italian','excuisite','EAST', '5')\");\n",
    "\n",
    "conn.execute(\"INSERT INTO RESTAURANTMASTER (ID,RESERVEDONTHENAME,RESTUARANTNAME,CUISINETYPE,COSTTYPE,LOCATION,NOOFPEOPLE) \\\n",
    "      VALUES  (1, 'JP','PARADISE','spanish','CHEAP','EAST', '5')\");\n",
    "conn.execute(\"INSERT INTO RESTAURANTMASTER (ID,RESERVEDONTHENAME,RESTUARANTNAME,CUISINETYPE,COSTTYPE,LOCATION,NOOFPEOPLE) \\\n",
    "      VALUES  (1, 'JP','PARADISE','spanish','medium','EAST', '5')\");\n",
    "conn.execute(\"INSERT INTO RESTAURANTMASTER (ID,RESERVEDONTHENAME,RESTUARANTNAME,CUISINETYPE,COSTTYPE,LOCATION,NOOFPEOPLE) \\\n",
    "      VALUES  (1, 'JP','PARADISE','spanish','excuisite','EAST', '5')\");\n",
    "\n",
    "conn.execute(\"INSERT INTO RESTAURANTMASTER (ID,RESERVEDONTHENAME,RESTUARANTNAME,CUISINETYPE,COSTTYPE,LOCATION,NOOFPEOPLE) \\\n",
    "      VALUES  (1, 'JP','PARADISE','continental','CHEAP','EAST', '5')\");\n",
    "conn.execute(\"INSERT INTO RESTAURANTMASTER (ID,RESERVEDONTHENAME,RESTUARANTNAME,CUISINETYPE,COSTTYPE,LOCATION,NOOFPEOPLE) \\\n",
    "      VALUES  (1, 'JP','PARADISE','continental','medium','EAST', '5')\");\n",
    "conn.execute(\"INSERT INTO RESTAURANTMASTER (ID,RESERVEDONTHENAME,RESTUARANTNAME,CUISINETYPE,COSTTYPE,LOCATION,NOOFPEOPLE) \\\n",
    "      VALUES  (1, 'JP','PARADISE','continental','excuisite','EAST', '5')\");\n",
    "\n",
    "conn.execute(\"INSERT INTO RESTAURANTMASTER (ID,RESERVEDONTHENAME,RESTUARANTNAME,CUISINETYPE,COSTTYPE,LOCATION,NOOFPEOPLE) \\\n",
    "      VALUES  (1, 'JP','PARADISE','multi cuisine','CHEAP','EAST', '5')\");\n",
    "conn.execute(\"INSERT INTO RESTAURANTMASTER (ID,RESERVEDONTHENAME,RESTUARANTNAME,CUISINETYPE,COSTTYPE,LOCATION,NOOFPEOPLE) \\\n",
    "      VALUES  (1, 'JP','PARADISE','multi cuisine','medium','EAST', '5')\");\n",
    "conn.execute(\"INSERT INTO RESTAURANTMASTER (ID,RESERVEDONTHENAME,RESTUARANTNAME,CUISINETYPE,COSTTYPE,LOCATION,NOOFPEOPLE) \\\n",
    "      VALUES  (1, 'JP','PARADISE','multi cuisine','excuisite','EAST', '5')\");\n",
    "\n",
    "conn.commit()\n",
    "print(\"Restaurant Records inserted successfully\");\n",
    "conn.close()"
   ]
  },
  {
   "cell_type": "code",
   "execution_count": null,
   "metadata": {
    "collapsed": true
   },
   "outputs": [],
   "source": []
  }
 ],
 "metadata": {
  "kernelspec": {
   "display_name": "Python 3",
   "language": "python",
   "name": "python3"
  },
  "language_info": {
   "codemirror_mode": {
    "name": "ipython",
    "version": 3
   },
   "file_extension": ".py",
   "mimetype": "text/x-python",
   "name": "python",
   "nbconvert_exporter": "python",
   "pygments_lexer": "ipython3",
   "version": "3.6.3"
  }
 },
 "nbformat": 4,
 "nbformat_minor": 2
}
