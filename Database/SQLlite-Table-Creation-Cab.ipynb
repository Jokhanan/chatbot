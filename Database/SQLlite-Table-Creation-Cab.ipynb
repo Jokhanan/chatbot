{
 "cells": [
  {
   "cell_type": "code",
   "execution_count": 37,
   "metadata": {},
   "outputs": [],
   "source": [
    "import sqlite3\n",
    "conn = sqlite3.connect('cabbooking.db')"
   ]
  },
  {
   "cell_type": "code",
   "execution_count": 38,
   "metadata": {},
   "outputs": [
    {
     "name": "stdout",
     "output_type": "stream",
     "text": [
      "CABMASTER created successfully\n"
     ]
    }
   ],
   "source": [
    "'''Create the table'''\n",
    "conn.execute('''CREATE TABLE CABMASTER\n",
    "         (ID                 INT                   NOT NULL,\n",
    "         CARNO               TEXT                  NOT NULL,\n",
    "         DRIVERNAME          TEXT                  NOT NULL,\n",
    "         CARMODEL            TEXT                  NOT NULL,\n",
    "         DESTINATION         TEXT                  NOT NULL,\n",
    "         SRCLOCATION         TEXT                  NOT NULL,\n",
    "         LUGGAGEBAGS         INT                  NOT NULL,\n",
    "         NOOFPEOPLE          INT                  NOT NULL);''')\n",
    "print(\"CABMASTER created successfully\");\n",
    "conn.close()"
   ]
  },
  {
   "cell_type": "code",
   "execution_count": 39,
   "metadata": {},
   "outputs": [
    {
     "name": "stdout",
     "output_type": "stream",
     "text": [
      "Records created successfully\n"
     ]
    }
   ],
   "source": [
    "conn = sqlite3.connect('cabbooking.db')\n",
    "conn.execute(\"INSERT INTO CABMASTER (ID,CARNO,DRIVERNAME,CARMODEL,DESTINATION,SRCLOCATION,LUGGAGEBAGS,NOOFPEOPLE) \\\n",
    "      VALUES (1, '1111','Paul','TATA Indica','GACHIBOWLI', 'AIRPORT', 1, 1 )\");\n",
    "\n",
    "conn.execute(\"INSERT INTO CABMASTER (ID,CARNO,DRIVERNAME,CARMODEL,DESTINATION,SRCLOCATION,LUGGAGEBAGS,NOOFPEOPLE) \\\n",
    "      VALUES (1, '2222','Max','MARUTI SWIFT','GACHIBOWLI', 'AIRPORT', 3, 3 )\");\n",
    "\n",
    "conn.execute(\"INSERT INTO CABMASTER (ID,CARNO,DRIVERNAME,CARMODEL,DESTINATION,SRCLOCATION,LUGGAGEBAGS,NOOFPEOPLE) \\\n",
    "      VALUES (1, '3333','William','TOYOTA INNOVA','GACHIBOWLI', 'AIRPORT', 5, 5 )\");\n",
    "\n",
    "conn.execute(\"INSERT INTO CABMASTER (ID,CARNO,DRIVERNAME,CARMODEL,DESTINATION,SRCLOCATION,LUGGAGEBAGS,NOOFPEOPLE) \\\n",
    "      VALUES (1, '4444','Suraj','XYLO','GACHIBOWLI', 'AIRPORT', 7, 7 )\");\n",
    "\n",
    "'''\n",
    "conn.execute(\"INSERT INTO CABMASTER4 (ID,CARNO,DRIVERNAME,CARMODEL,DESTINATION,SRCLOCATION,LUGGAGEBAGS,NOOFPEOPLE) \\\n",
    "      VALUES (1, '1111','Paul','TATA Indica','GACHIBOWLI', 'AIRPORT', '3', '1' )\");\n",
    "\n",
    "conn.execute(\"INSERT INTO CABMASTER4 (ID,CARNO,DRIVERNAME,CARMODEL,DESTINATION,SRCLOCATION,LUGGAGEBAGS,NOOFPEOPLE) \\\n",
    "      VALUES (1, '1111','Paul','MARUTI SWIFT','GACHIBOWLI', 'AIRPORT', '1', '4' )\");\n",
    "\n",
    "conn.execute(\"INSERT INTO CABMASTER4 (ID,CARNO,DRIVERNAME,CARMODEL,DESTINATION,SRCLOCATION,LUGGAGEBAGS,NOOFPEOPLE) \\\n",
    "      VALUES (1, '1111','Paul','TATA Indica','GACHIBOWLI', 'AIRPORT', '1', '2' )\");\n",
    "\n",
    "conn.execute(\"INSERT INTO CABMASTER4 (ID,CARNO,DRIVERNAME,CARMODEL,DESTINATION,SRCLOCATION,LUGGAGEBAGS,NOOFPEOPLE) \\\n",
    "      VALUES (1, '1111','Paul','TATA Indica','GACHIBOWLI', 'AIRPORT', '2', '2' )\");\n",
    "\n",
    "conn.execute(\"INSERT INTO CABMASTER4 (ID,CARNO,DRIVERNAME,CARMODEL,DESTINATION,SRCLOCATION,LUGGAGEBAGS,NOOFPEOPLE) \\\n",
    "      VALUES (1, '1111','Paul','TATA Indica','GACHIBOWLI', 'AIRPORT', '3', '2' )\");\n",
    "\n",
    "conn.execute(\"INSERT INTO CABMASTER4 (ID,CARNO,DRIVERNAME,CARMODEL,DESTINATION,SRCLOCATION,LUGGAGEBAGS,NOOFPEOPLE) \\\n",
    "      VALUES (2,'2222','Paul','TATA Indica','GACHIBOWLI', 'AIRPORT', '2', '2' )\");\n",
    "\n",
    "conn.execute(\"INSERT INTO CABMASTER4 (ID,CARNO,DRIVERNAME,CARMODEL,DESTINATION,SRCLOCATION,LUGGAGEBAGS,NOOFPEOPLE) \\\n",
    "      VALUES (2,'2222','Paul','TATA Indica','GACHIBOWLI', 'AIRPORT', '2', '2' )\");\n",
    "\n",
    "conn.execute(\"INSERT INTO CABMASTER4 (ID,CARNO,DRIVERNAME,CARMODEL,DESTINATION,SRCLOCATION,LUGGAGEBAGS,NOOFPEOPLE) \\\n",
    "      VALUES (1, '1111','Paul','TATA Indica','GACHIBOWLI', 'AIRPORT', '1', '3' )\");\n",
    "\n",
    "conn.execute(\"INSERT INTO CABMASTER4 (ID,CARNO,DRIVERNAME,CARMODEL,DESTINATION,SRCLOCATION,LUGGAGEBAGS,NOOFPEOPLE) \\\n",
    "      VALUES (2,'2222','Paul','TATA Indica','GACHIBOWLI', 'AIRPORT', '2', '3' )\");\n",
    "\n",
    "conn.execute(\"INSERT INTO CABMASTER4 (ID,CARNO,DRIVERNAME,CARMODEL,DESTINATION,SRCLOCATION,LUGGAGEBAGS,NOOFPEOPLE) \\\n",
    "      VALUES (2,'2222','Paul','TATA Indica','GACHIBOWLI', 'AIRPORT', '3', '3' )\");\n",
    "\n",
    "conn.execute(\"INSERT INTO CABMASTER4 (ID,CARNO,DRIVERNAME,CARMODEL,DESTINATION,SRCLOCATION,LUGGAGEBAGS,NOOFPEOPLE) \\\n",
    "      VALUES (1, '1111','Paul','MARUTI SWIFT','GACHIBOWLI', 'AIRPORT', '1', '4' )\");\n",
    "\n",
    "conn.execute(\"INSERT INTO CABMASTER4 (ID,CARNO,DRIVERNAME,CARMODEL,DESTINATION,SRCLOCATION,LUGGAGEBAGS,NOOFPEOPLE) \\\n",
    "      VALUES (2,'2222','Paul','MARUTI SWIFT','GACHIBOWLI', 'AIRPORT', '2', '4' )\");\n",
    "\n",
    "conn.execute(\"INSERT INTO CABMASTER4 (ID,CARNO,DRIVERNAME,CARMODEL,DESTINATION,SRCLOCATION,LUGGAGEBAGS,NOOFPEOPLE) \\\n",
    "      VALUES (2,'2222','Paul','MARUTI SWIFT','GACHIBOWLI', 'AIRPORT', '3', '4' )\");\n",
    "\n",
    "conn.execute(\"INSERT INTO CABMASTER4 (ID,CARNO,DRIVERNAME,CARMODEL,DESTINATION,SRCLOCATION,LUGGAGEBAGS,NOOFPEOPLE) \\\n",
    "      VALUES (2,'2222','Paul','MARUTI SWIFT','GACHIBOWLI', 'AIRPORT', '4', '4' )\");\n",
    "\n",
    "conn.execute(\"INSERT INTO CABMASTER4 (ID,CARNO,DRIVERNAME,CARMODEL,DESTINATION,SRCLOCATION,LUGGAGEBAGS,NOOFPEOPLE) \\\n",
    "      VALUES (2,'2222','Paul','TOYOTA INNOVA','GACHIBOWLI', 'AIRPORT', '1', '5' )\");\n",
    "conn.execute(\"INSERT INTO CABMASTER4 (ID,CARNO,DRIVERNAME,CARMODEL,DESTINATION,SRCLOCATION,LUGGAGEBAGS,NOOFPEOPLE) \\\n",
    "      VALUES (2,'2222','Paul','TOYOTA INNOVA','GACHIBOWLI', 'AIRPORT', '2', '5' )\");\n",
    "conn.execute(\"INSERT INTO CABMASTER4 (ID,CARNO,DRIVERNAME,CARMODEL,DESTINATION,SRCLOCATION,LUGGAGEBAGS,NOOFPEOPLE) \\\n",
    "      VALUES (2,'2222','Paul','TOYOTA INNOVA','GACHIBOWLI', 'AIRPORT', '3', '5' )\");\n",
    "conn.execute(\"INSERT INTO CABMASTER4 (ID,CARNO,DRIVERNAME,CARMODEL,DESTINATION,SRCLOCATION,LUGGAGEBAGS,NOOFPEOPLE) \\\n",
    "      VALUES (2,'2222','Paul','TOYOTA INNOVA','GACHIBOWLI', 'AIRPORT', '4', '5' )\");\n",
    "conn.execute(\"INSERT INTO CABMASTER4 (ID,CARNO,DRIVERNAME,CARMODEL,DESTINATION,SRCLOCATION,LUGGAGEBAGS,NOOFPEOPLE) \\\n",
    "      VALUES (2,'2222','Paul','TOYOTA INNOVA','GACHIBOWLI', 'AIRPORT', '5', '5' )\");\n",
    "\n",
    "conn.execute(\"INSERT INTO CABMASTER4 (ID,CARNO,DRIVERNAME,CARMODEL,DESTINATION,SRCLOCATION,LUGGAGEBAGS,NOOFPEOPLE) \\\n",
    "      VALUES (2,'2222','Paul','MAHINDRA XYLO','GACHIBOWLI', 'AIRPORT', '1', '6' )\");\n",
    "conn.execute(\"INSERT INTO CABMASTER4 (ID,CARNO,DRIVERNAME,CARMODEL,DESTINATION,SRCLOCATION,LUGGAGEBAGS,NOOFPEOPLE) \\\n",
    "      VALUES (2,'2222','Paul','MAHINDRA XYLO','GACHIBOWLI', 'AIRPORT', '2', '6' )\");\n",
    "conn.execute(\"INSERT INTO CABMASTER4 (ID,CARNO,DRIVERNAME,CARMODEL,DESTINATION,SRCLOCATION,LUGGAGEBAGS,NOOFPEOPLE) \\\n",
    "      VALUES (2,'2222','Paul','MAHINDRA XYLO','GACHIBOWLI', 'AIRPORT', '3', '6' )\");\n",
    "conn.execute(\"INSERT INTO CABMASTER4 (ID,CARNO,DRIVERNAME,CARMODEL,DESTINATION,SRCLOCATION,LUGGAGEBAGS,NOOFPEOPLE) \\\n",
    "      VALUES (2,'2222','Paul','MAHINDRA XYLO','GACHIBOWLI', 'AIRPORT', '4', '6' )\");\n",
    "conn.execute(\"INSERT INTO CABMASTER4 (ID,CARNO,DRIVERNAME,CARMODEL,DESTINATION,SRCLOCATION,LUGGAGEBAGS,NOOFPEOPLE) \\\n",
    "      VALUES (2,'2222','Paul','MAHINDRA XYLO','GACHIBOWLI', 'AIRPORT', '5', '6' )\");\n",
    "\n",
    "'''\n",
    "\n",
    "conn.commit()\n",
    "print(\"Records created successfully\");\n",
    "conn.close()"
   ]
  },
  {
   "cell_type": "code",
   "execution_count": 17,
   "metadata": {},
   "outputs": [
    {
     "name": "stdout",
     "output_type": "stream",
     "text": [
      "Opened database successfully\n",
      "2\n",
      "2222\n",
      "Paul\n",
      "TATA Indica\n",
      "GACHIBOWLI\n",
      "AIRPORT\n",
      "2\n",
      "2\n",
      "\n",
      "Operation done successfully\n"
     ]
    }
   ],
   "source": [
    "conn = sqlite3.connect('cabbooking.db')\n",
    "print(\"Opened database successfully\");\n",
    "luggage = '2'\n",
    "cursor = conn.execute(\"SELECT * from CABMASTER2 where LUGGAGEBAGS=\"+luggage)\n",
    "for row in cursor:\n",
    "    i=0\n",
    "    while(i<8): \n",
    "        print(row[i]) \n",
    "        i = i+1\n",
    "print()  \n",
    "\n",
    "print(\"Operation done successfully\");\n",
    "conn.close()"
   ]
  },
  {
   "cell_type": "code",
   "execution_count": null,
   "metadata": {
    "collapsed": true
   },
   "outputs": [],
   "source": []
  }
 ],
 "metadata": {
  "kernelspec": {
   "display_name": "Python 3",
   "language": "python",
   "name": "python3"
  },
  "language_info": {
   "codemirror_mode": {
    "name": "ipython",
    "version": 3
   },
   "file_extension": ".py",
   "mimetype": "text/x-python",
   "name": "python",
   "nbconvert_exporter": "python",
   "pygments_lexer": "ipython3",
   "version": "3.6.3"
  }
 },
 "nbformat": 4,
 "nbformat_minor": 2
}
